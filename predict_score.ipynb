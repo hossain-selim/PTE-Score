{
 "cells": [
  {
   "cell_type": "code",
   "execution_count": null,
   "metadata": {},
   "outputs": [],
   "source": [
    "# Libraries\n",
    "import os\n",
    "import pandas as pd\n",
    "import numpy as np\n",
    "import librosa\n",
    "import soundfile as sf\n",
    "from sklearn.model_selection import train_test_split\n",
    "from sklearn.svm import SVR\n",
    "from sklearn.metrics import mean_squared_error"
   ]
  },
  {
   "cell_type": "code",
   "execution_count": null,
   "metadata": {},
   "outputs": [],
   "source": [
    "# Load the Excel file\n",
    "labels = pd.read_excel('label.xlsx')\n",
    "\n",
    "# Display the first few rows\n",
    "print(labels.head())"
   ]
  },
  {
   "cell_type": "code",
   "execution_count": null,
   "metadata": {},
   "outputs": [],
   "source": [
    "def extract_features(audio_path):\n",
    "    y, sr = librosa.load(audio_path, sr=None)\n",
    "    mfccs = librosa.feature.mfcc(y=y, sr=sr, n_mfcc=13)\n",
    "    chroma = librosa.feature.chroma_stft(y=y, sr=sr)\n",
    "    spectral_contrast = librosa.feature.spectral_contrast(y=y, sr=sr)\n",
    "    return np.hstack((np.mean(mfccs, axis=1), \n",
    "                      np.mean(chroma, axis=1), \n",
    "                      np.mean(spectral_contrast, axis=1)))\n",
    "\n",
    "# Directory containing audio files\n",
    "audio_dir = 'dataset/'\n",
    "\n",
    "# Initialize lists to store features and labels\n",
    "X = []\n",
    "y_pronunciation = []\n",
    "y_fluency = []\n",
    "\n",
    "# Iterate over the rows of the labels DataFrame\n",
    "for index, row in labels.iterrows():\n",
    "    audio_path = os.path.join(audio_dir, row['audio'])\n",
    "    if os.path.exists(audio_path):\n",
    "        features = extract_features(audio_path)\n",
    "        X.append(features)\n",
    "        y_pronunciation.append(row['pronunciation'])\n",
    "        y_fluency.append(row['fluency'])\n",
    "    else:\n",
    "        print(f'File {audio_path} does not exist.')\n",
    "\n",
    "X = np.array(X)\n",
    "y_pronunciation = np.array(y_pronunciation)\n",
    "y_fluency = np.array(y_fluency)\n",
    "\n",
    "print(f'Feature matrix shape: {X.shape}')\n",
    "print(f'Pronunciation scores shape: {y_pronunciation.shape}')\n",
    "print(f'Fluency scores shape: {y_fluency.shape}')\n"
   ]
  },
  {
   "cell_type": "code",
   "execution_count": null,
   "metadata": {},
   "outputs": [],
   "source": [
    "# Split the data\n",
    "X_train, X_test, y_pron_train, y_pron_test = train_test_split(X, y_pronunciation, test_size=0.2, random_state=42)\n",
    "X_train, X_test, y_flu_train, y_flu_test = train_test_split(X, y_fluency, test_size=0.2, random_state=42)\n",
    "\n",
    "# Initialize and train the model for pronunciation score\n",
    "model_pron = SVR(kernel='rbf')\n",
    "model_pron.fit(X_train, y_pron_train)\n",
    "\n",
    "# Initialize and train the model for fluency score\n",
    "model_flu = SVR(kernel='rbf')\n",
    "model_flu.fit(X_train, y_flu_train)\n",
    "\n",
    "# Make predictions\n",
    "y_pron_pred = model_pron.predict(X_test)\n",
    "y_flu_pred = model_flu.predict(X_test)\n",
    "\n",
    "# Evaluate the model\n",
    "mse_pron = mean_squared_error(y_pron_test, y_pron_pred)\n",
    "mse_flu = mean_squared_error(y_flu_test, y_flu_pred)\n",
    "\n",
    "print(f'Pronunciation MSE: {mse_pron}')\n",
    "print(f'Fluency MSE: {mse_flu}')"
   ]
  },
  {
   "cell_type": "code",
   "execution_count": null,
   "metadata": {},
   "outputs": [],
   "source": [
    "# Assuming you have a function to extract features from a single audio file\n",
    "new_audio_features = extract_features('don1.mp3')\n",
    "\n",
    "# Predict pronunciation score\n",
    "pron_score_pred = model_pron.predict(new_audio_features.reshape(1, -1))\n",
    "\n",
    "# Predict fluency score\n",
    "fluency_score_pred = model_flu.predict(new_audio_features.reshape(1, -1))\n",
    "\n",
    "print(f'Predicted Pronunciation Score: {pron_score_pred[0]}')\n",
    "print(f'Predicted Fluency Score: {fluency_score_pred[0]}')"
   ]
  },
  {
   "cell_type": "code",
   "execution_count": null,
   "metadata": {},
   "outputs": [],
   "source": []
  }
 ],
 "metadata": {
  "kernelspec": {
   "display_name": "base",
   "language": "python",
   "name": "python3"
  },
  "language_info": {
   "codemirror_mode": {
    "name": "ipython",
    "version": 3
   },
   "file_extension": ".py",
   "mimetype": "text/x-python",
   "name": "python",
   "nbconvert_exporter": "python",
   "pygments_lexer": "ipython3",
   "version": "3.11.7"
  }
 },
 "nbformat": 4,
 "nbformat_minor": 2
}
